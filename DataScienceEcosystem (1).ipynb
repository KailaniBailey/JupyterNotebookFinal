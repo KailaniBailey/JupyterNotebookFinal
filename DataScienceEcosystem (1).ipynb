{
 "cells": [
  {
   "cell_type": "markdown",
   "id": "4ab713e1",
   "metadata": {},
   "source": [
    "# Data Science Tools and Ecosystem"
   ]
  },
  {
   "cell_type": "markdown",
   "id": "a3217c14",
   "metadata": {},
   "source": [
    "## Author\n",
    "\n",
    "Kailani Brionna Bailey"
   ]
  },
  {
   "cell_type": "markdown",
   "id": "1642ed83",
   "metadata": {},
   "source": [
    "## In this notebook, Data Science Tools and Ecosystem are summarized."
   ]
  },
  {
   "cell_type": "markdown",
   "id": "db8419e7",
   "metadata": {},
   "source": [
    "### **Objectives:**\n",
    "\n",
    "- Popular languages that Data Scientists use\n",
    "- Commonly used libraries used by Data Scientists\n",
    "- Tools used by Data Scientists\n",
    "- Examples of evaluating simple arithmetic expressions using Python"
   ]
  },
  {
   "cell_type": "markdown",
   "id": "ee4b113d",
   "metadata": {},
   "source": [
    "### Some of the popular languages that Data Scientists use are:"
   ]
  },
  {
   "cell_type": "markdown",
   "id": "2aed2717",
   "metadata": {},
   "source": [
    "1. Python\n",
    "2. R\n",
    "3. JSON\n",
    "4. Julia\n",
    "5. Ruby\n",
    "6. Pandas\n",
    "7. Javascript"
   ]
  },
  {
   "cell_type": "markdown",
   "id": "bac90c9c",
   "metadata": {},
   "source": [
    "### Some of the commonly used libraries used by Data Scientists include:"
   ]
  },
  {
   "cell_type": "markdown",
   "id": "08bff36e",
   "metadata": {},
   "source": [
    "1. NumPy\n",
    "2. SciKit-Learn\n",
    "3. Plotly\n",
    "4. SciPy\n",
    "5. PyTorch\n",
    "6. Apache Spark\n",
    "7. Seaborn"
   ]
  },
  {
   "cell_type": "markdown",
   "id": "8001d3f7",
   "metadata": {},
   "source": [
    "| Data Science Tools |\n",
    "| ------------------ |\n",
    "| Jupyter Notebook   |\n",
    "| Apache Hadoop      |\n",
    "| Apache Spark       |"
   ]
  },
  {
   "cell_type": "markdown",
   "id": "e64c2a52",
   "metadata": {},
   "source": [
    "### Below are a few examples of evaluating arithmetic expressions in Python"
   ]
  },
  {
   "cell_type": "code",
   "execution_count": 1,
   "id": "64425e30",
   "metadata": {},
   "outputs": [
    {
     "data": {
      "text/plain": [
       "17"
      ]
     },
     "execution_count": 1,
     "metadata": {},
     "output_type": "execute_result"
    }
   ],
   "source": [
    "#This is a simple arithmetic expression to multiply then add integers\n",
    "\n",
    "(3*4)+5"
   ]
  },
  {
   "cell_type": "code",
   "execution_count": 32,
   "id": "6f8ca724",
   "metadata": {},
   "outputs": [
    {
     "name": "stdout",
     "output_type": "stream",
     "text": [
      "3 hrs\n"
     ]
    }
   ],
   "source": [
    "#This will convert 200 minutes to hours by dividing by 60\n",
    "\n",
    "hours = 200\n",
    "minutes = 60\n",
    "hrs = hours//minutes\n",
    "\n",
    "print(hours//minutes,\"hrs\")"
   ]
  }
 ],
 "metadata": {
  "kernelspec": {
   "display_name": "Python 3 (ipykernel)",
   "language": "python",
   "name": "python3"
  },
  "language_info": {
   "codemirror_mode": {
    "name": "ipython",
    "version": 3
   },
   "file_extension": ".py",
   "mimetype": "text/x-python",
   "name": "python",
   "nbconvert_exporter": "python",
   "pygments_lexer": "ipython3",
   "version": "3.11.5"
  }
 },
 "nbformat": 4,
 "nbformat_minor": 5
}
